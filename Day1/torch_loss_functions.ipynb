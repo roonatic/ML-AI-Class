{
 "cells": [
  {
   "cell_type": "markdown",
   "metadata": {
    "id": "16MRkHwODseH"
   },
   "source": [
    "# loss functions"
   ]
  },
  {
   "cell_type": "markdown",
   "metadata": {
    "id": "yjK_fczdDseQ"
   },
   "source": [
    "## nn.L1Loss"
   ]
  },
  {
   "cell_type": "code",
   "execution_count": 1,
   "metadata": {
    "colab": {
     "base_uri": "https://localhost:8080/"
    },
    "executionInfo": {
     "elapsed": 3941,
     "status": "ok",
     "timestamp": 1614997911388,
     "user": {
      "displayName": "노규남",
      "photoUrl": "",
      "userId": "18354138419357331039"
     },
     "user_tz": -540
    },
    "id": "3tq7C5zVDseR",
    "outputId": "10e27aac-7a00-4306-8bb8-6a65e54ed154"
   },
   "outputs": [
    {
     "name": "stdout",
     "output_type": "stream",
     "text": [
      "tensor([[ 0.7534, -0.1731,  0.1325,  0.2065,  0.3034],\n",
      "        [-0.1740,  0.3238,  0.2850,  1.1424, -0.0704],\n",
      "        [ 1.3477,  1.8392, -0.7806,  0.8189, -0.3312]], requires_grad=True)\n",
      "tensor([[ 8.4685e-01,  9.6426e-01,  8.0701e-01,  8.5679e-01, -1.8519e+00],\n",
      "        [-6.7585e-02,  8.0516e-01,  4.0986e-01,  6.8410e-01,  1.5802e-01],\n",
      "        [ 8.0661e-02,  9.3178e-01, -8.8218e-04, -1.2905e+00,  1.3687e+00]])\n",
      "0.8582481741905212\n"
     ]
    }
   ],
   "source": [
    "# abs(x-y)\n",
    "\n",
    "import torch\n",
    "import torch.nn as nn\n",
    "\n",
    "loss = nn.L1Loss()\n",
    "input = torch.randn(3, 5, requires_grad=True)\n",
    "target = torch.randn(3, 5)\n",
    "output = loss(input, target)\n",
    "output.backward()\n",
    "\n",
    "print(input)\n",
    "print(target)\n",
    "print(output.item())"
   ]
  },
  {
   "cell_type": "markdown",
   "metadata": {
    "id": "3gfUFHodDseS"
   },
   "source": [
    "## nn.MSELoss"
   ]
  },
  {
   "cell_type": "code",
   "execution_count": 2,
   "metadata": {
    "colab": {
     "base_uri": "https://localhost:8080/"
    },
    "executionInfo": {
     "elapsed": 1066,
     "status": "ok",
     "timestamp": 1614997960383,
     "user": {
      "displayName": "노규남",
      "photoUrl": "",
      "userId": "18354138419357331039"
     },
     "user_tz": -540
    },
    "id": "2SVmm8W9DseT",
    "outputId": "d4f8a051-3719-400e-d7c0-d59b5c69951c"
   },
   "outputs": [
    {
     "name": "stdout",
     "output_type": "stream",
     "text": [
      "tensor([[ 0.2958, -0.9233, -1.9021, -0.7092, -0.1041],\n",
      "        [ 0.0703, -2.0200, -0.3570,  0.5052, -0.5056],\n",
      "        [ 0.0750, -0.6503,  1.7519,  1.6972, -0.0665]], requires_grad=True)\n",
      "tensor([[-0.9058,  0.3344,  0.0975, -0.0076, -0.3049],\n",
      "        [-0.6327,  0.5815, -0.9631,  0.8829, -0.5160],\n",
      "        [-0.9373, -0.3831,  0.0127,  0.5185,  0.4145]])\n",
      "1.4047034978866577\n"
     ]
    }
   ],
   "source": [
    "# (x-y)^2\n",
    "\n",
    "import torch\n",
    "import torch.nn as nn\n",
    "\n",
    "loss = nn.MSELoss()\n",
    "input = torch.randn(3, 5, requires_grad=True)\n",
    "target = torch.randn(3, 5)\n",
    "output = loss(input, target)\n",
    "output.backward()\n",
    "\n",
    "print(input)\n",
    "print(target)\n",
    "print(output.item())"
   ]
  },
  {
   "cell_type": "markdown",
   "metadata": {
    "id": "xf-fIx-vDseT"
   },
   "source": [
    "## nn.CrossEntropyLoss"
   ]
  },
  {
   "cell_type": "code",
   "execution_count": 3,
   "metadata": {
    "colab": {
     "base_uri": "https://localhost:8080/"
    },
    "executionInfo": {
     "elapsed": 3411,
     "status": "ok",
     "timestamp": 1614942238800,
     "user": {
      "displayName": "노규남",
      "photoUrl": "",
      "userId": "18354138419357331039"
     },
     "user_tz": -540
    },
    "id": "8V20Qm4UDseT",
    "outputId": "c8194488-d577-463d-d0cf-67a8e5c0ffd4"
   },
   "outputs": [
    {
     "name": "stdout",
     "output_type": "stream",
     "text": [
      "tensor([[ 2.6404, -0.5595,  1.5712, -0.7404, -0.3460],\n",
      "        [ 0.4078,  0.1587,  1.1099,  0.2901, -1.6301],\n",
      "        [-0.6836,  0.0432, -0.4229, -1.9503, -0.5072]], requires_grad=True)\n",
      "tensor([3, 3, 2])\n",
      "2.3197033405303955\n"
     ]
    }
   ],
   "source": [
    "# C개 아이템을 classify할 때 사용\n",
    "# input은 (N, C), target은 (N), output은 scalar (N)\n",
    "# 즉 input중 가장 높은 확률인 아이템이 몇번째인가?가 target이고 그에 따른 loss를 계산한다.\n",
    "\n",
    "import torch\n",
    "import torch.nn as nn\n",
    "\n",
    "loss = nn.CrossEntropyLoss()\n",
    "input = torch.randn(3, 5, requires_grad=True)\n",
    "target = torch.empty(3, dtype=torch.long).random_(5)\n",
    "output = loss(input, target)\n",
    "output.backward()\n",
    "\n",
    "print(input)\n",
    "print(target)\n",
    "print(output.item())"
   ]
  },
  {
   "cell_type": "markdown",
   "metadata": {
    "id": "1FbluVlaDseU"
   },
   "source": [
    "## nn.CTCLoss"
   ]
  },
  {
   "cell_type": "code",
   "execution_count": 4,
   "metadata": {
    "colab": {
     "base_uri": "https://localhost:8080/"
    },
    "executionInfo": {
     "elapsed": 3405,
     "status": "ok",
     "timestamp": 1614942238800,
     "user": {
      "displayName": "노규남",
      "photoUrl": "",
      "userId": "18354138419357331039"
     },
     "user_tz": -540
    },
    "id": "BCR1FEMcDseU",
    "outputId": "577a34bb-230b-4a46-c7ca-2f7f1a9a7e34"
   },
   "outputs": [
    {
     "name": "stdout",
     "output_type": "stream",
     "text": [
      "tensor([[[-1.6833, -3.8143, -4.5293,  ..., -2.8930, -2.0758, -2.6512],\n",
      "         [-4.6271, -4.5812, -3.7796,  ..., -4.5686, -3.3960, -2.5119],\n",
      "         [-3.3016, -2.2695, -3.1001,  ..., -2.0367, -3.1311, -2.7979],\n",
      "         ...,\n",
      "         [-3.4544, -3.1003, -4.3823,  ..., -3.0772, -3.2770, -3.7642],\n",
      "         [-3.8873, -3.3922, -4.5446,  ..., -3.7278, -5.0861, -1.8861],\n",
      "         [-3.4677, -2.0565, -2.5602,  ..., -4.0908, -3.4269, -3.8847]],\n",
      "\n",
      "        [[-4.6454, -3.6305, -4.1969,  ..., -5.2624, -1.3588, -3.7721],\n",
      "         [-4.1852, -3.3255, -3.5140,  ..., -0.9328, -4.0168, -2.9479],\n",
      "         [-4.3201, -3.4748, -4.5620,  ..., -4.4836, -3.1178, -2.3926],\n",
      "         ...,\n",
      "         [-3.3245, -4.3286, -4.0611,  ..., -4.4482, -1.8963, -3.6606],\n",
      "         [-4.3245, -3.7111, -3.3877,  ..., -3.3352, -3.6976, -2.6628],\n",
      "         [-5.9423, -2.4370, -5.7293,  ..., -4.0399, -4.3442, -4.7280]],\n",
      "\n",
      "        [[-3.7995, -3.2606, -2.6505,  ..., -3.9543, -3.3024, -3.8139],\n",
      "         [-4.3025, -3.5650, -1.3846,  ..., -2.7877, -4.8599, -2.8767],\n",
      "         [-2.0020, -2.0483, -3.1256,  ..., -3.1587, -4.9433, -2.7684],\n",
      "         ...,\n",
      "         [-3.7629, -5.0960, -3.2775,  ..., -3.2891, -3.6421, -3.3383],\n",
      "         [-3.2653, -1.5362, -5.1208,  ..., -3.1397, -5.0067, -3.0776],\n",
      "         [-3.2033, -3.1130, -5.5491,  ..., -3.1452, -3.4727, -2.2386]],\n",
      "\n",
      "        ...,\n",
      "\n",
      "        [[-4.3687, -3.2336, -2.4024,  ..., -3.2460, -2.7638, -3.5533],\n",
      "         [-3.3886, -3.2773, -3.4699,  ..., -1.7311, -2.7685, -2.4528],\n",
      "         [-3.2100, -3.0781, -6.5410,  ..., -4.4883, -4.3742, -5.0357],\n",
      "         ...,\n",
      "         [-4.2938, -1.4368, -3.2006,  ..., -3.8418, -4.8959, -2.4624],\n",
      "         [-4.0362, -4.3948, -4.2119,  ..., -3.5023, -3.3561, -2.5912],\n",
      "         [-4.0503, -5.1796, -4.6013,  ..., -3.7826, -0.6813, -5.1573]],\n",
      "\n",
      "        [[-4.2366, -5.4095, -3.9115,  ..., -5.5625, -4.0092, -4.0737],\n",
      "         [-4.6682, -3.2824, -4.7603,  ..., -3.9712, -5.3108, -1.6575],\n",
      "         [-4.2230, -2.4469, -3.6657,  ..., -3.5688, -3.1501, -4.5601],\n",
      "         ...,\n",
      "         [-2.1294, -5.3946, -2.8757,  ..., -3.2802, -3.6618, -3.2397],\n",
      "         [-3.4613, -2.7071, -2.5591,  ..., -3.3748, -4.0628, -1.7540],\n",
      "         [-4.4282, -3.6611, -3.5686,  ..., -2.7535, -2.0694, -4.4944]],\n",
      "\n",
      "        [[-3.8173, -2.6956, -3.9386,  ..., -3.6218, -1.1439, -3.5988],\n",
      "         [-2.2823, -2.7847, -3.2663,  ..., -5.3025, -3.2044, -3.0803],\n",
      "         [-1.8317, -3.8058, -3.8661,  ..., -2.3305, -3.3941, -3.2860],\n",
      "         ...,\n",
      "         [-1.9930, -4.7575, -1.8026,  ..., -2.7403, -3.1277, -4.1481],\n",
      "         [-4.1666, -2.5308, -2.0575,  ..., -3.0634, -4.7673, -4.7058],\n",
      "         [-4.2342, -3.6553, -4.2732,  ..., -1.6564, -3.6119, -3.3832]]],\n",
      "       requires_grad=True)\n",
      "tensor([[16, 11, 10,  2,  8, 16,  7, 16, 19,  5,  4, 18, 19, 17,  4,  8,  6,  8,\n",
      "         17, 12,  1,  4,  3,  6,  1,  9, 15,  6, 10, 12],\n",
      "        [ 1, 17,  5,  8, 10, 10,  2, 13, 13, 12, 19,  2,  3, 10,  6, 16,  8,  8,\n",
      "         14, 15, 12, 16,  8,  4, 14,  7, 18, 15,  3,  7],\n",
      "        [14, 16,  1, 14, 12,  2, 12,  2, 13,  4,  1,  9, 18, 14, 14,  2, 10, 19,\n",
      "          5, 17,  4,  9, 13, 19, 17,  2, 12,  3, 13, 12],\n",
      "        [ 6,  8, 14, 18,  9, 10, 19, 17, 10, 11,  8, 14, 16,  6, 17, 13, 13,  1,\n",
      "         15, 11, 18,  2,  9,  1, 14, 16,  9, 12, 13,  8],\n",
      "        [13,  9,  6,  4, 17, 18, 14, 11, 14, 14,  5,  6, 10,  9,  8, 17, 15, 14,\n",
      "          2,  2, 18, 17,  3,  4,  9, 12,  1, 19,  2, 16],\n",
      "        [ 2, 18,  4,  5, 16,  4, 11,  2,  6, 12, 18,  2, 12,  5, 16, 10,  9,  6,\n",
      "          6,  1, 14, 11,  8, 13,  1, 13,  6, 11,  9,  2],\n",
      "        [11, 10, 18, 16,  9,  4, 16,  7,  9,  7,  1, 16, 15, 11, 17,  9,  9, 16,\n",
      "          7,  1, 11, 13, 16,  3,  3,  7, 14,  8,  1, 16],\n",
      "        [ 6, 11, 18,  8,  4,  8,  1, 17, 11, 17,  2,  3,  5,  7, 12,  6,  1,  2,\n",
      "         15,  2, 17, 18, 10, 17,  3, 15,  1, 12, 19,  8],\n",
      "        [11, 13,  1, 12,  3, 12, 15,  4, 17, 14, 16,  2,  4, 12,  3, 13, 16,  3,\n",
      "          3,  5,  5, 17, 11, 18, 13,  7, 12, 16, 17, 14],\n",
      "        [13,  9,  7,  1, 17, 17, 18, 13,  7,  1,  2, 11,  4, 11,  2,  9, 12, 18,\n",
      "         18, 18, 12, 19,  4, 18, 16, 13, 12,  7, 17,  4],\n",
      "        [ 4, 11, 19,  8,  5,  4,  9, 13, 13,  7,  8, 15, 15, 12,  4,  8,  4,  5,\n",
      "         14,  7, 18,  9, 14, 12,  1,  6,  3, 16, 12,  5],\n",
      "        [16,  1, 11,  1, 19, 12, 15, 10, 11,  1, 19,  8,  5, 10,  2, 12,  7, 15,\n",
      "         17,  4, 12, 18,  6, 10,  4, 14, 17, 17, 11, 11],\n",
      "        [ 1, 19,  4, 17,  7,  8,  7,  3,  8,  6, 11,  1, 14, 10,  5, 17,  2,  8,\n",
      "          2, 14,  8,  1, 16,  2,  2,  9, 10, 10,  7,  7],\n",
      "        [ 3,  8,  2, 10, 14, 12,  1, 11, 17, 13, 14,  6, 19, 13,  7,  6, 11, 13,\n",
      "          7, 18,  3, 18, 10, 14, 14, 12,  1, 14, 11, 14],\n",
      "        [11, 15, 18,  5, 17, 19,  1,  9,  3,  5, 15,  1, 14,  8, 16,  1, 15, 12,\n",
      "         14, 15, 10, 13,  7,  4,  4,  6,  2,  3,  1, 13],\n",
      "        [ 1, 18, 12,  2, 14,  2, 15, 11,  9, 14, 12,  3,  2, 12,  8, 11,  4,  9,\n",
      "         13, 13,  5,  9,  5,  8,  1,  3, 18,  7, 10, 15]])\n",
      "6.006753444671631\n",
      "tensor([[[-4.4433, -4.2803, -4.0128,  ..., -1.3958, -5.6511, -1.3863],\n",
      "         [-3.5705, -3.5111, -4.0222,  ..., -4.8917, -4.7161, -4.7480],\n",
      "         [-2.8486, -3.5197, -2.7923,  ..., -2.4758, -3.4718, -4.0175],\n",
      "         ...,\n",
      "         [-4.0173, -3.7023, -4.9296,  ..., -2.6569, -3.8966, -5.9160],\n",
      "         [-4.8506, -3.6331, -4.5781,  ..., -3.5506, -2.7793, -1.8439],\n",
      "         [-2.5737, -3.2567, -4.9312,  ..., -3.8606, -3.5128, -2.8040]],\n",
      "\n",
      "        [[-3.8770, -4.1196, -2.3136,  ..., -3.9245, -1.9017, -2.9423],\n",
      "         [-2.1457, -2.4707, -2.2854,  ..., -2.4529, -3.0112, -3.3554],\n",
      "         [-3.4857, -2.3052, -4.3261,  ..., -3.4503, -2.9467, -3.9418],\n",
      "         ...,\n",
      "         [-4.7389, -3.7989, -3.0208,  ..., -3.7386, -3.5102, -4.3689],\n",
      "         [-3.0487, -2.8876, -2.4913,  ..., -5.5261, -2.8464, -3.2492],\n",
      "         [-3.7447, -3.1238, -3.3626,  ..., -1.9511, -3.9131, -2.5405]],\n",
      "\n",
      "        [[-2.7409, -3.7816, -2.6706,  ..., -3.5921, -3.8705, -2.4514],\n",
      "         [-3.1752, -2.2896, -2.7583,  ..., -4.8650, -3.4269, -1.8626],\n",
      "         [-4.4053, -1.0554, -4.0120,  ..., -4.9754, -3.6850, -2.9075],\n",
      "         ...,\n",
      "         [-3.9428, -4.6547, -3.2919,  ..., -2.1147, -6.4157, -2.1494],\n",
      "         [-2.8537, -4.9971, -5.3710,  ..., -4.3465, -2.6599, -3.8862],\n",
      "         [-2.5132, -2.6962, -2.6101,  ..., -3.8477, -4.1190, -2.7629]],\n",
      "\n",
      "        ...,\n",
      "\n",
      "        [[-3.4570, -3.5178, -2.0676,  ..., -3.0469, -4.8242, -3.9521],\n",
      "         [-3.1410, -1.9614, -3.3626,  ..., -3.1055, -4.0360, -4.4139],\n",
      "         [-1.2699, -1.5171, -4.3978,  ..., -4.4805, -2.9557, -2.6556],\n",
      "         ...,\n",
      "         [-3.1116, -2.9613, -3.2334,  ..., -3.3840, -3.7152, -3.6990],\n",
      "         [-3.3320, -2.6016, -3.1274,  ..., -3.4220, -2.9235, -2.9030],\n",
      "         [-3.0711, -4.6385, -4.3518,  ..., -4.1661, -2.9451, -2.3314]],\n",
      "\n",
      "        [[-4.4767, -3.7089, -4.3576,  ..., -3.8161, -2.9480, -3.1769],\n",
      "         [-3.9225, -3.5025, -5.2654,  ..., -3.1590, -1.7880, -2.1222],\n",
      "         [-3.5807, -2.6558, -2.9891,  ..., -3.0492, -2.6595, -2.8164],\n",
      "         ...,\n",
      "         [-3.7676, -2.6937, -4.7243,  ..., -4.2928, -7.0143, -4.7748],\n",
      "         [-2.6363, -4.5899, -5.0250,  ..., -3.3478, -5.8129, -1.0579],\n",
      "         [-3.9671, -3.3858, -3.4914,  ..., -2.1080, -3.8991, -4.3287]],\n",
      "\n",
      "        [[-3.2235, -1.6689, -4.3174,  ..., -3.2120, -2.3785, -2.9111],\n",
      "         [-3.5112, -2.8166, -3.6853,  ..., -2.9156, -3.6963, -3.1955],\n",
      "         [-3.9919, -4.7171, -3.3707,  ..., -5.1442, -3.0382, -5.0309],\n",
      "         ...,\n",
      "         [-4.9486, -3.0296, -2.4407,  ..., -4.0224, -3.1748, -4.3540],\n",
      "         [-3.0385, -3.5823, -3.7062,  ..., -3.7735, -3.6438, -4.3518],\n",
      "         [-4.9198, -4.6214, -2.5916,  ..., -2.9869, -2.2991, -2.8689]]],\n",
      "       requires_grad=True)\n",
      "tensor([ 4, 17, 12, 18, 12, 17,  8, 17, 13, 10, 18, 13, 15, 14, 10,  8, 16,  6,\n",
      "         5, 13, 18, 17,  5, 12,  2,  3, 14, 13, 16,  8, 12,  2, 19,  5, 10, 17,\n",
      "         4, 12,  5,  9, 17,  7, 17, 16, 14,  6,  5, 18,  1,  3, 15, 15, 15,  6,\n",
      "        12, 18, 17,  9, 10,  8, 17,  9, 17,  2, 10, 10,  2,  1, 12, 14, 12, 12,\n",
      "         1, 10,  8, 18, 16, 10,  9, 19, 18, 12, 11, 18,  9, 18,  1, 17, 14,  7,\n",
      "        19, 16, 10,  1,  5, 15, 18, 19,  6, 13, 18, 18,  4, 16, 18, 17, 10, 16,\n",
      "         2, 16, 16,  6,  1,  9,  4, 11, 10, 10,  1,  1,  1,  4, 15, 16, 14,  4,\n",
      "         4, 10, 19,  5,  6, 15, 12,  1, 19, 12,  8,  7,  7,  1,  4, 17,  3, 10,\n",
      "         3, 10, 14, 16,  2, 14, 12, 19,  2, 13,  2, 15, 19, 15, 17, 15, 15, 16,\n",
      "         4, 13,  7,  7,  5, 11, 15, 10, 19, 16, 13, 10, 17,  2, 10,  9,  9, 18,\n",
      "        17, 14, 13, 11,  1,  7,  5, 12, 16,  3, 18,  3, 14, 15, 18, 16, 19, 16,\n",
      "        12,  5, 19, 18, 14,  4, 16,  5, 17, 17,  2, 19,  9, 12, 15,  8, 18,  5,\n",
      "         5,  6,  6,  7, 16,  8, 17, 10,  4, 18,  3, 19, 13, 12, 16, 16,  8, 18,\n",
      "        10, 19,  7, 15, 12, 17,  6, 19,  8, 10, 19, 12, 14,  2,  2, 14, 16, 19,\n",
      "        10,  4,  1, 11, 16, 13,  9,  6, 16,  7, 13,  5, 14, 17,  5, 16, 11, 19,\n",
      "         9, 11, 10, 18, 13,  7, 15, 16,  3,  9, 19,  6,  5,  5,  7,  9,  3, 13,\n",
      "        14, 18, 17, 11,  1, 17, 19,  7,  3, 18,  1, 13, 11,  2,  1,  8,  1, 18,\n",
      "        18, 14,  8,  2, 12,  5,  4,  4,  1, 14, 17,  9,  3, 17,  6, 17, 16, 18,\n",
      "        19, 16,  2,  9,  1, 19,  7, 13, 12, 14,  3,  6,  1, 17, 11,  8,  9,  2,\n",
      "         8,  4, 16,  9, 18,  4, 17, 16,  2, 15,  6,  2, 18,  1, 18,  3,  6,  6,\n",
      "        12,  9, 15, 18, 16,  7,  7, 16,  8, 14, 13, 18, 10, 10,  9,  2, 10,  8,\n",
      "         9, 11, 12,  2,  6,  5,  4,  6,  1, 12,  2,  5,  2,  3,  5, 11,  4,  8,\n",
      "        15, 10, 18,  7, 11,  2, 13,  4,  5, 16, 15,  2,  7,  8,  3,  5,  6,  7,\n",
      "         3, 19, 17, 11, 16, 19, 17,  4,  1,  6, 15, 14,  9,  4,  5,  7, 17, 11,\n",
      "        10, 14,  2,  9, 16,  3,  2, 11, 18,  7,  6])\n",
      "8.940732955932617\n"
     ]
    }
   ],
   "source": [
    "import torch\n",
    "import torch.nn as nn\n",
    "\n",
    "# Target are to be padded\n",
    "T = 50      # Input sequence length\n",
    "C = 20      # Number of classes (including blank)\n",
    "N = 16      # Batch size\n",
    "S = 30      # Target sequence length of longest target in batch (padding length)\n",
    "S_min = 10  # Minimum target length, for demonstration purposes\n",
    "\n",
    "# Initialize random batch of input vectors, for *size = (T,N,C)\n",
    "input = torch.randn(T, N, C).log_softmax(2).detach().requires_grad_()\n",
    "\n",
    "# Initialize random batch of targets (0 = blank, 1:C = classes)\n",
    "target = torch.randint(low=1, high=C, size=(N, S), dtype=torch.long)\n",
    "\n",
    "input_lengths = torch.full(size=(N,), fill_value=T, dtype=torch.long)\n",
    "target_lengths = torch.randint(low=S_min, high=S, size=(N,), dtype=torch.long)\n",
    "ctc_loss = nn.CTCLoss()\n",
    "loss = ctc_loss(input, target, input_lengths, target_lengths)\n",
    "loss.backward()\n",
    "print(input)\n",
    "print(target)\n",
    "print(loss.item())\n",
    "\n",
    " # Target are to be un-padded\n",
    "T = 50      # Input sequence length\n",
    "C = 20      # Number of classes (including blank)\n",
    "N = 16      # Batch size\n",
    "\n",
    "# Initialize random batch of input vectors, for *size = (T,N,C)\n",
    "input = torch.randn(T, N, C).log_softmax(2).detach().requires_grad_()\n",
    "input_lengths = torch.full(size=(N,), fill_value=T, dtype=torch.long)\n",
    "\n",
    "# Initialize random batch of targets (0 = blank, 1:C = classes)\n",
    "target_lengths = torch.randint(low=1, high=T, size=(N,), dtype=torch.long)\n",
    "target = torch.randint(low=1, high=C, size=(sum(target_lengths),), dtype=torch.long)\n",
    "ctc_loss = nn.CTCLoss()\n",
    "loss = ctc_loss(input, target, input_lengths, target_lengths)\n",
    "loss.backward()\n",
    "print(input)\n",
    "print(target)\n",
    "print(loss.item())"
   ]
  },
  {
   "cell_type": "markdown",
   "metadata": {
    "id": "pySs0dlfDseV"
   },
   "source": [
    "## nn.NLLLoss"
   ]
  },
  {
   "cell_type": "code",
   "execution_count": 5,
   "metadata": {
    "colab": {
     "base_uri": "https://localhost:8080/"
    },
    "executionInfo": {
     "elapsed": 3399,
     "status": "ok",
     "timestamp": 1614942238801,
     "user": {
      "displayName": "노규남",
      "photoUrl": "",
      "userId": "18354138419357331039"
     },
     "user_tz": -540
    },
    "id": "CQNVmw1HDseV",
    "outputId": "9abd0b08-b1b4-45f4-b2a9-d114dc14d743"
   },
   "outputs": [
    {
     "name": "stdout",
     "output_type": "stream",
     "text": [
      "tensor([[-0.4355,  0.9404, -0.1609, -0.5867, -0.9732],\n",
      "        [-0.3017, -1.3037, -1.0465,  0.6768,  2.6003],\n",
      "        [ 0.1424, -0.4455,  0.1418,  0.3988, -0.0615]], requires_grad=True)\n",
      "tensor([[[0, 0, 2, 0, 1, 1, 0, 3],\n",
      "         [3, 0, 0, 0, 2, 3, 1, 0],\n",
      "         [0, 1, 1, 1, 2, 2, 0, 1],\n",
      "         [2, 3, 1, 2, 0, 1, 0, 0],\n",
      "         [0, 1, 0, 0, 0, 3, 1, 3],\n",
      "         [0, 1, 0, 1, 2, 2, 0, 1],\n",
      "         [1, 0, 1, 2, 3, 2, 3, 1],\n",
      "         [0, 0, 0, 2, 1, 1, 0, 2]],\n",
      "\n",
      "        [[2, 0, 2, 1, 1, 1, 1, 1],\n",
      "         [2, 2, 3, 1, 3, 2, 0, 1],\n",
      "         [2, 1, 3, 2, 0, 1, 1, 1],\n",
      "         [1, 1, 3, 2, 2, 0, 0, 3],\n",
      "         [1, 3, 2, 0, 3, 0, 1, 1],\n",
      "         [2, 3, 3, 2, 2, 0, 3, 2],\n",
      "         [2, 1, 1, 3, 3, 3, 1, 1],\n",
      "         [3, 0, 0, 0, 3, 3, 2, 1]],\n",
      "\n",
      "        [[1, 1, 0, 2, 1, 1, 0, 1],\n",
      "         [1, 1, 2, 3, 2, 1, 1, 1],\n",
      "         [2, 1, 1, 1, 1, 2, 2, 2],\n",
      "         [2, 3, 3, 3, 0, 0, 1, 3],\n",
      "         [1, 0, 1, 1, 1, 3, 0, 0],\n",
      "         [1, 1, 2, 2, 3, 3, 0, 1],\n",
      "         [2, 3, 1, 1, 3, 0, 2, 2],\n",
      "         [1, 2, 0, 1, 1, 1, 0, 2]],\n",
      "\n",
      "        [[0, 0, 2, 3, 2, 0, 2, 1],\n",
      "         [2, 2, 0, 1, 2, 1, 2, 3],\n",
      "         [3, 2, 0, 2, 1, 1, 0, 3],\n",
      "         [0, 1, 2, 0, 3, 1, 3, 3],\n",
      "         [2, 2, 2, 2, 0, 3, 2, 2],\n",
      "         [3, 0, 0, 2, 0, 0, 0, 2],\n",
      "         [0, 2, 3, 1, 0, 2, 0, 1],\n",
      "         [3, 0, 2, 2, 0, 1, 0, 0]],\n",
      "\n",
      "        [[1, 1, 3, 3, 1, 0, 0, 3],\n",
      "         [2, 1, 3, 3, 2, 1, 1, 1],\n",
      "         [0, 0, 0, 0, 0, 3, 2, 0],\n",
      "         [3, 1, 2, 3, 1, 0, 0, 1],\n",
      "         [1, 0, 2, 2, 0, 2, 1, 0],\n",
      "         [2, 1, 1, 2, 1, 3, 2, 3],\n",
      "         [1, 2, 3, 2, 0, 3, 2, 0],\n",
      "         [3, 3, 0, 3, 2, 3, 2, 0]]])\n",
      "1.5011522769927979\n"
     ]
    }
   ],
   "source": [
    "import torch\n",
    "import torch.nn as nn\n",
    "\n",
    "m = nn.LogSoftmax(dim=1)\n",
    "loss = nn.NLLLoss()\n",
    "# input is of size N x C = 3 x 5\n",
    "input = torch.randn(3, 5, requires_grad=True)\n",
    "# each element in target has to have 0 <= value < C\n",
    "target = torch.tensor([1, 0, 4])\n",
    "output = loss(m(input), target)\n",
    "output.backward()\n",
    "\n",
    "# 2D loss example (used, for example, with image inputs)\n",
    "N, C = 5, 4\n",
    "loss = nn.NLLLoss()\n",
    "# input is of size N x C x height x width\n",
    "data = torch.randn(N, 16, 10, 10)\n",
    "conv = nn.Conv2d(16, C, (3, 3))\n",
    "m = nn.LogSoftmax(dim=1)\n",
    "# each element in target has to have 0 <= value < C\n",
    "target = torch.empty(N, 8, 8, dtype=torch.long).random_(0, C)\n",
    "output = loss(m(conv(data)), target)\n",
    "output.backward()\n",
    "print(input)\n",
    "print(target)\n",
    "print(output.item())"
   ]
  },
  {
   "cell_type": "markdown",
   "metadata": {
    "id": "l4Jx3vpwDseW"
   },
   "source": [
    "## nn.PoissonNLLLoss"
   ]
  },
  {
   "cell_type": "code",
   "execution_count": null,
   "metadata": {
    "colab": {
     "base_uri": "https://localhost:8080/"
    },
    "executionInfo": {
     "elapsed": 3394,
     "status": "ok",
     "timestamp": 1614942238802,
     "user": {
      "displayName": "노규남",
      "photoUrl": "",
      "userId": "18354138419357331039"
     },
     "user_tz": -540
    },
    "id": "0Q2PrvToDseW",
    "outputId": "a07d99de-a992-48c6-a4e5-25b40880c06c"
   },
   "outputs": [],
   "source": [
    "import torch\n",
    "import torch.nn as nn\n",
    "\n",
    "loss = nn.PoissonNLLLoss()\n",
    "log_input = torch.randn(5, 2, requires_grad=True)\n",
    "target = torch.randn(5, 2)\n",
    "output = loss(log_input, target)\n",
    "output.backward()\n",
    "print(input)\n",
    "print(target)\n",
    "print(output.item())"
   ]
  },
  {
   "cell_type": "markdown",
   "metadata": {
    "id": "_YcaoV7HDseX"
   },
   "source": [
    "## nn.KLDivLoss"
   ]
  },
  {
   "cell_type": "markdown",
   "metadata": {
    "id": "YjbjYSQmDseX"
   },
   "source": [
    "## nn.BCELoss"
   ]
  },
  {
   "cell_type": "code",
   "execution_count": null,
   "metadata": {
    "colab": {
     "base_uri": "https://localhost:8080/"
    },
    "executionInfo": {
     "elapsed": 3388,
     "status": "ok",
     "timestamp": 1614942238802,
     "user": {
      "displayName": "노규남",
      "photoUrl": "",
      "userId": "18354138419357331039"
     },
     "user_tz": -540
    },
    "id": "N27REJAXDseX",
    "outputId": "eb8e44d5-7668-4ee6-c777-d431caddc10a"
   },
   "outputs": [],
   "source": [
    "# 분류가 두가지인 경우 사용\n",
    "\n",
    "import torch\n",
    "import torch.nn as nn\n",
    "\n",
    "m = nn.Sigmoid()\n",
    "loss = nn.BCELoss()\n",
    "input = torch.randn(3, requires_grad=True)\n",
    "target = torch.empty(3).random_(2)\n",
    "output = loss(m(input), target)\n",
    "output.backward()\n",
    "print(input)\n",
    "print(target)\n",
    "print(output.item())"
   ]
  },
  {
   "cell_type": "markdown",
   "metadata": {
    "id": "NrVWbGuODseY"
   },
   "source": [
    "## nn.BCEWithLogitsLoss"
   ]
  },
  {
   "cell_type": "code",
   "execution_count": null,
   "metadata": {
    "colab": {
     "base_uri": "https://localhost:8080/"
    },
    "executionInfo": {
     "elapsed": 3639,
     "status": "ok",
     "timestamp": 1614942239059,
     "user": {
      "displayName": "노규남",
      "photoUrl": "",
      "userId": "18354138419357331039"
     },
     "user_tz": -540
    },
    "id": "0YSSJmebDseY",
    "outputId": "3f2e03b6-fbfc-47dd-d289-308640a29a85"
   },
   "outputs": [],
   "source": [
    "import torch\n",
    "import torch.nn as nn\n",
    "\n",
    "loss = nn.BCEWithLogitsLoss()\n",
    "input = torch.randn(3, requires_grad=True)\n",
    "target = torch.empty(3).random_(2)\n",
    "output = loss(input, target)\n",
    "output.backward()\n",
    "print(input)\n",
    "print(target)\n",
    "print(output.item())"
   ]
  },
  {
   "cell_type": "markdown",
   "metadata": {
    "id": "27JWMlLfDseY"
   },
   "source": [
    "## nn.MarginRankingLoss"
   ]
  },
  {
   "cell_type": "markdown",
   "metadata": {
    "id": "JRQpEIbIDseY"
   },
   "source": [
    "## nn.HingeEmbeddingLoss"
   ]
  },
  {
   "cell_type": "markdown",
   "metadata": {
    "id": "Rv9O05KLDseZ"
   },
   "source": [
    "## nn.MultiLabelMarginLoss"
   ]
  },
  {
   "cell_type": "code",
   "execution_count": null,
   "metadata": {
    "colab": {
     "base_uri": "https://localhost:8080/"
    },
    "executionInfo": {
     "elapsed": 3634,
     "status": "ok",
     "timestamp": 1614942239060,
     "user": {
      "displayName": "노규남",
      "photoUrl": "",
      "userId": "18354138419357331039"
     },
     "user_tz": -540
    },
    "id": "Yf1jkT-0DseZ",
    "outputId": "610f5723-c698-491a-f0db-606ab6437d2e"
   },
   "outputs": [],
   "source": [
    "import torch\n",
    "import torch.nn as nn\n",
    "\n",
    "loss = nn.MultiLabelMarginLoss()\n",
    "x = torch.FloatTensor([[0.1, 0.2, 0.4, 0.8]])\n",
    "# for target y, only consider labels 3 and 0, not after label -1\n",
    "y = torch.LongTensor([[3, 0, -1, 1]])\n",
    "output = loss(x, y)\n",
    "print(x)\n",
    "print(y)\n",
    "print(output.item())"
   ]
  },
  {
   "cell_type": "markdown",
   "metadata": {
    "id": "LfBqaoJTDseZ"
   },
   "source": [
    "## nn.SmoothL1Loss"
   ]
  },
  {
   "cell_type": "markdown",
   "metadata": {
    "id": "8vHb_ZoKDsea"
   },
   "source": [
    "## nn.SoftMarginLoss"
   ]
  },
  {
   "cell_type": "markdown",
   "metadata": {
    "id": "Yg7M1X36Dsea"
   },
   "source": [
    "## nn.MultiLabelSoftMarginLoss"
   ]
  },
  {
   "cell_type": "markdown",
   "metadata": {
    "id": "0hTedyMmDsea"
   },
   "source": [
    "## nn.CosineEmbeddingLoss"
   ]
  },
  {
   "cell_type": "markdown",
   "metadata": {
    "id": "owxhh7KADsea"
   },
   "source": [
    "## nn.MultiMarginLoss"
   ]
  },
  {
   "cell_type": "markdown",
   "metadata": {
    "id": "VECBF_R6Dseb"
   },
   "source": [
    "## nn.TripletMarginLoss"
   ]
  },
  {
   "cell_type": "code",
   "execution_count": null,
   "metadata": {
    "colab": {
     "base_uri": "https://localhost:8080/"
    },
    "executionInfo": {
     "elapsed": 3629,
     "status": "ok",
     "timestamp": 1614942239061,
     "user": {
      "displayName": "노규남",
      "photoUrl": "",
      "userId": "18354138419357331039"
     },
     "user_tz": -540
    },
    "id": "v0Y49HgIDseb",
    "outputId": "23759b4e-765d-4636-fd50-c3bdc531917d"
   },
   "outputs": [],
   "source": [
    "import torch\n",
    "import torch.nn as nn\n",
    "\n",
    "triplet_loss = nn.TripletMarginLoss(margin=1.0, p=2)\n",
    "anchor = torch.randn(100, 128, requires_grad=True)\n",
    "positive = torch.randn(100, 128, requires_grad=True)\n",
    "negative = torch.randn(100, 128, requires_grad=True)\n",
    "output = triplet_loss(anchor, positive, negative)\n",
    "output.backward()\n",
    "print(input)\n",
    "print(target)\n",
    "print(output.item())"
   ]
  },
  {
   "cell_type": "code",
   "execution_count": null,
   "metadata": {
    "id": "iuwqVal1Dseb"
   },
   "outputs": [],
   "source": []
  }
 ],
 "metadata": {
  "colab": {
   "collapsed_sections": [],
   "name": "torch_loss_functions.ipynb",
   "provenance": []
  },
  "kernelspec": {
   "display_name": "Python 3",
   "language": "python",
   "name": "python3"
  },
  "language_info": {
   "codemirror_mode": {
    "name": "ipython",
    "version": 3
   },
   "file_extension": ".py",
   "mimetype": "text/x-python",
   "name": "python",
   "nbconvert_exporter": "python",
   "pygments_lexer": "ipython3",
   "version": "3.10.12"
  }
 },
 "nbformat": 4,
 "nbformat_minor": 1
}
