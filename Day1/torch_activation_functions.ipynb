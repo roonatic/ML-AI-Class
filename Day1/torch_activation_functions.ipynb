{
 "cells": [
  {
   "cell_type": "markdown",
   "metadata": {
    "id": "Si5maQ89Ddl7"
   },
   "source": [
    "# torch activation functions"
   ]
  },
  {
   "cell_type": "markdown",
   "metadata": {
    "id": "5evYUI2nDdmE"
   },
   "source": [
    "## [Non-linear Activations (weighted sum, nonlinearity)](https://pytorch.org/docs/stable/nn.html#non-linear-activations-weighted-sum-nonlinearity)"
   ]
  },
  {
   "cell_type": "markdown",
   "metadata": {
    "id": "UQ56eY6nDdmF"
   },
   "source": [
    "### Sigmoid (0~1)"
   ]
  },
  {
   "cell_type": "code",
   "execution_count": 6,
   "metadata": {},
   "outputs": [
    {
     "data": {
      "image/png": "[encoded data removed]",
      "text/plain": [
       "<Figure size 640x480 with 1 Axes>"
      ]
     },
     "metadata": {},
     "output_type": "display_data"
    }
   ],
   "source": [
    "import torch\n",
    "import matplotlib.pyplot as plt\n",
    "\n",
    "x = torch.linspace(-10, 10, 100)\n",
    "y = torch.sigmoid(x)\n",
    "\n",
    "plt.plot(x.numpy(), y.numpy())\n",
    "plt.show()\n"
   ]
  },
  {
   "cell_type": "code",
   "execution_count": 4,
   "metadata": {},
   "outputs": [
    {
     "data": {
      "text/plain": [
       "tensor([1.4142, 1.7321, 1.4142])"
      ]
     },
     "execution_count": 4,
     "metadata": {},
     "output_type": "execute_result"
    }
   ],
   "source": [
    "input_2"
   ]
  },
  {
   "cell_type": "code",
   "execution_count": 2,
   "metadata": {
    "colab": {
     "base_uri": "https://localhost:8080/"
    },
    "executionInfo": {
     "elapsed": 4929,
     "status": "ok",
     "timestamp": 1614997139354,
     "user": {
      "displayName": "노규남",
      "photoUrl": "",
      "userId": "18354138419357331039"
     },
     "user_tz": -540
    },
    "id": "ctzORQPqDdmF",
    "outputId": "02c0f438-73c8-4a8f-a8d3-498baf168560"
   },
   "outputs": [
    {
     "name": "stdout",
     "output_type": "stream",
     "text": [
      "tensor([ 0.0355, -0.0400]) tensor([0.5089, 0.4900])\n"
     ]
    }
   ],
   "source": [
    "import torch\n",
    "from torch import nn\n",
    "\n",
    "m = nn.Sigmoid()\n",
    "input = torch.randn(2)\n",
    "output = m(input)\n",
    "\n",
    "print(input, output)"
   ]
  },
  {
   "cell_type": "markdown",
   "metadata": {
    "id": "ZaCwnO3cDdmH"
   },
   "source": [
    "### Tanh (-1~1)"
   ]
  },
  {
   "cell_type": "code",
   "execution_count": 3,
   "metadata": {
    "colab": {
     "base_uri": "https://localhost:8080/"
    },
    "executionInfo": {
     "elapsed": 582,
     "status": "ok",
     "timestamp": 1614997192376,
     "user": {
      "displayName": "노규남",
      "photoUrl": "",
      "userId": "18354138419357331039"
     },
     "user_tz": -540
    },
    "id": "l6QJtnERDdmI",
    "outputId": "08357fb3-a7a1-45ad-9547-9babaa538533"
   },
   "outputs": [
    {
     "name": "stdout",
     "output_type": "stream",
     "text": [
      "tensor([-0.6948, -1.6952]) tensor([-0.6011, -0.9348])\n"
     ]
    }
   ],
   "source": [
    "from torch import nn\n",
    "\n",
    "m = nn.Tanh()\n",
    "input = torch.randn(2)\n",
    "output = m(input)\n",
    "\n",
    "print(input, output)"
   ]
  },
  {
   "cell_type": "markdown",
   "metadata": {
    "id": "TuZqEMRZDdmJ"
   },
   "source": [
    "### ReLU (0~)"
   ]
  },
  {
   "cell_type": "code",
   "execution_count": 4,
   "metadata": {
    "colab": {
     "base_uri": "https://localhost:8080/"
    },
    "executionInfo": {
     "elapsed": 610,
     "status": "ok",
     "timestamp": 1614997226233,
     "user": {
      "displayName": "노규남",
      "photoUrl": "",
      "userId": "18354138419357331039"
     },
     "user_tz": -540
    },
    "id": "Om5sAwq7DdmJ",
    "outputId": "6cf42cd2-cecc-4587-9bc0-15ba269fae49"
   },
   "outputs": [
    {
     "name": "stdout",
     "output_type": "stream",
     "text": [
      "tensor([ 1.6160, -0.6537]) tensor([1.6160, 0.0000])\n"
     ]
    }
   ],
   "source": [
    "from torch import nn\n",
    "\n",
    "m = nn.ReLU()\n",
    "input = torch.randn(2)\n",
    "output = m(input)\n",
    "\n",
    "print(input, output)"
   ]
  },
  {
   "cell_type": "markdown",
   "metadata": {
    "id": "llO-LCf3DdmK"
   },
   "source": [
    "### LeakyReLU "
   ]
  },
  {
   "cell_type": "code",
   "execution_count": 5,
   "metadata": {
    "colab": {
     "base_uri": "https://localhost:8080/"
    },
    "executionInfo": {
     "elapsed": 570,
     "status": "ok",
     "timestamp": 1614997395033,
     "user": {
      "displayName": "노규남",
      "photoUrl": "",
      "userId": "18354138419357331039"
     },
     "user_tz": -540
    },
    "id": "fG3oAR2ADdmK",
    "outputId": "dff41a14-ada0-49b9-8d76-c6db8da08b74"
   },
   "outputs": [
    {
     "name": "stdout",
     "output_type": "stream",
     "text": [
      "tensor([-0.2839,  1.4989]) tensor([-0.0284,  1.4989])\n"
     ]
    }
   ],
   "source": [
    "from torch import nn\n",
    "\n",
    "m = nn.LeakyReLU(0.1)\n",
    "input = torch.randn(2)\n",
    "output = m(input)\n",
    "\n",
    "print(input, output)"
   ]
  },
  {
   "cell_type": "markdown",
   "metadata": {
    "id": "0iMq6m1PDdmL"
   },
   "source": [
    "### PReLU"
   ]
  },
  {
   "cell_type": "code",
   "execution_count": 6,
   "metadata": {
    "colab": {
     "base_uri": "https://localhost:8080/"
    },
    "executionInfo": {
     "elapsed": 826,
     "status": "ok",
     "timestamp": 1614997442332,
     "user": {
      "displayName": "노규남",
      "photoUrl": "",
      "userId": "18354138419357331039"
     },
     "user_tz": -540
    },
    "id": "A_BM6BuEDdmL",
    "outputId": "84b05643-f905-41f8-ad33-929900c30aa0"
   },
   "outputs": [
    {
     "name": "stdout",
     "output_type": "stream",
     "text": [
      "tensor([-0.9954, -1.0392]) tensor([-0.2489, -0.2598], grad_fn=<PreluKernelBackward0>)\n"
     ]
    }
   ],
   "source": [
    "from torch import nn\n",
    "\n",
    "m = nn.PReLU()\n",
    "input = torch.randn(2)\n",
    "output = m(input)\n",
    "\n",
    "print(input, output)"
   ]
  },
  {
   "cell_type": "markdown",
   "metadata": {
    "id": "sFSFBBTFDdmM"
   },
   "source": [
    "### ELU"
   ]
  },
  {
   "cell_type": "code",
   "execution_count": 7,
   "metadata": {
    "colab": {
     "base_uri": "https://localhost:8080/"
    },
    "executionInfo": {
     "elapsed": 599,
     "status": "ok",
     "timestamp": 1614997458653,
     "user": {
      "displayName": "노규남",
      "photoUrl": "",
      "userId": "18354138419357331039"
     },
     "user_tz": -540
    },
    "id": "XaG_QcCHDdmM",
    "outputId": "17ffd19e-2949-44da-b5fb-fad91527ac43"
   },
   "outputs": [
    {
     "name": "stdout",
     "output_type": "stream",
     "text": [
      "tensor([-0.4078, -0.4712]) tensor([-0.3349, -0.3757])\n"
     ]
    }
   ],
   "source": [
    "from torch import nn\n",
    "\n",
    "m = nn.ELU()\n",
    "input = torch.randn(2)\n",
    "output = m(input)\n",
    "\n",
    "print(input, output)"
   ]
  },
  {
   "cell_type": "markdown",
   "metadata": {
    "id": "W8e2sSzsDdmN"
   },
   "source": [
    "### CELU"
   ]
  },
  {
   "cell_type": "code",
   "execution_count": 8,
   "metadata": {
    "colab": {
     "base_uri": "https://localhost:8080/"
    },
    "executionInfo": {
     "elapsed": 565,
     "status": "ok",
     "timestamp": 1614997467733,
     "user": {
      "displayName": "노규남",
      "photoUrl": "",
      "userId": "18354138419357331039"
     },
     "user_tz": -540
    },
    "id": "WpjvNnLuDdmN",
    "outputId": "bfa761bb-0bc6-406a-d9c4-3e537f6e9ce8"
   },
   "outputs": [
    {
     "name": "stdout",
     "output_type": "stream",
     "text": [
      "tensor([-0.8518,  2.1986]) tensor([-0.5734,  2.1986])\n"
     ]
    }
   ],
   "source": [
    "from torch import nn\n",
    "\n",
    "m = nn.CELU()\n",
    "input = torch.randn(2)\n",
    "output = m(input)\n",
    "\n",
    "print(input, output)"
   ]
  },
  {
   "cell_type": "markdown",
   "metadata": {},
   "source": [
    "### Swish"
   ]
  },
  {
   "cell_type": "code",
   "execution_count": 9,
   "metadata": {},
   "outputs": [
    {
     "name": "stdout",
     "output_type": "stream",
     "text": [
      "tensor([-0.6763,  0.9368]) tensor([-0.2280,  0.6731])\n"
     ]
    }
   ],
   "source": [
    "import torch\n",
    "import torch.nn as nn\n",
    "\n",
    "class Swish(nn.Module):\n",
    "    def forward(self, x):\n",
    "        return x * torch.sigmoid(x)\n",
    "\n",
    "m = Swish()\n",
    "input = torch.randn(2)\n",
    "output = m(input)\n",
    "\n",
    "print(input, output)"
   ]
  },
  {
   "cell_type": "markdown",
   "metadata": {},
   "source": [
    "### Mish"
   ]
  },
  {
   "cell_type": "code",
   "execution_count": 10,
   "metadata": {},
   "outputs": [
    {
     "name": "stdout",
     "output_type": "stream",
     "text": [
      "tensor([ 0.4074, -0.5158]) tensor([ 0.2952, -0.2252])\n"
     ]
    }
   ],
   "source": [
    "import torch\n",
    "import torch.nn as nn\n",
    "\n",
    "class Mish(nn.Module):\n",
    "    def forward(self, x):\n",
    "        return x * torch.tanh(torch.nn.functional.softplus(x))\n",
    "\n",
    "m = Mish()\n",
    "input = torch.randn(2)\n",
    "output = m(input)\n",
    "\n",
    "print(input, output)"
   ]
  },
  {
   "cell_type": "markdown",
   "metadata": {
    "id": "XIv-MYpUDdmO"
   },
   "source": [
    "## [Non-linear Activations (other)](https://pytorch.org/docs/stable/nn.html#non-linear-activations-other)"
   ]
  },
  {
   "cell_type": "markdown",
   "metadata": {
    "id": "RPtbFFWkDdmO"
   },
   "source": [
    "### nn.Softmax (확률)"
   ]
  },
  {
   "cell_type": "code",
   "execution_count": 11,
   "metadata": {
    "colab": {
     "base_uri": "https://localhost:8080/"
    },
    "executionInfo": {
     "elapsed": 1011,
     "status": "ok",
     "timestamp": 1614942207001,
     "user": {
      "displayName": "노규남",
      "photoUrl": "",
      "userId": "18354138419357331039"
     },
     "user_tz": -540
    },
    "id": "_1YYaS_RDdmP",
    "outputId": "99741cfd-db4c-4ca1-b9bb-aac3a744fd74"
   },
   "outputs": [
    {
     "name": "stdout",
     "output_type": "stream",
     "text": [
      "tensor([[-0.2629,  2.2810,  1.3077],\n",
      "        [-0.1094, -1.8961,  0.0961]])\n",
      "tensor([[0.0539, 0.6866, 0.2594],\n",
      "        [0.4174, 0.0699, 0.5126]])\n",
      "tensor([1., 1.])\n",
      "tensor([1, 2])\n"
     ]
    }
   ],
   "source": [
    "from torch import nn\n",
    "import numpy as np\n",
    "\n",
    "m = nn.Softmax(dim=1)\n",
    "input = torch.randn(2, 3)\n",
    "output = m(input)\n",
    "print(input)\n",
    "print(output)\n",
    "print(output.sum(dim=1))\n",
    "print(np.argmax(output, axis=1)) # 최대값의 인덱스를 찾는 함수. max = 최대값 자체를 찾는다."
   ]
  }
 ],
 "metadata": {
  "colab": {
   "collapsed_sections": [],
   "name": "torch_activation_functions.ipynb",
   "provenance": []
  },
  "kernelspec": {
   "display_name": "Python 3",
   "language": "python",
   "name": "python3"
  },
  "language_info": {
   "codemirror_mode": {
    "name": "ipython",
    "version": 3
   },
   "file_extension": ".py",
   "mimetype": "text/x-python",
   "name": "python",
   "nbconvert_exporter": "python",
   "pygments_lexer": "ipython3",
   "version": "3.10.12"
  }
 },
 "nbformat": 4,
 "nbformat_minor": 1
}
